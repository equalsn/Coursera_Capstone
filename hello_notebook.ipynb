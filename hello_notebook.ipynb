#%% md

***

<h4><center>Notebook for Coursera Data Science capstone project</center></h4>

***

#%%

import pandas as pd
import numpy as np

#%%

print("Hello Capstone Project Course!")

#%%
